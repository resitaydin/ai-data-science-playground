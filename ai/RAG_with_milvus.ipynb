{
 "cells": [
  {
   "cell_type": "markdown",
   "id": "08ea3b5f",
   "metadata": {},
   "source": [
    "# Build a RAG System with Milvus using open-source models"
   ]
  },
  {
   "cell_type": "code",
   "execution_count": 1,
   "id": "ae611f02",
   "metadata": {},
   "outputs": [
    {
     "name": "stdout",
     "output_type": "stream",
     "text": [
      "zsh:1: command not found: pip\n"
     ]
    }
   ],
   "source": [
    "# Install the required packages\n",
    "! pip install --upgrade pymilvus requests tqdm"
   ]
  }
 ],
 "metadata": {
  "kernelspec": {
   "display_name": ".venv",
   "language": "python",
   "name": "python3"
  },
  "language_info": {
   "codemirror_mode": {
    "name": "ipython",
    "version": 3
   },
   "file_extension": ".py",
   "mimetype": "text/x-python",
   "name": "python",
   "nbconvert_exporter": "python",
   "pygments_lexer": "ipython3",
   "version": "3.12.10"
  }
 },
 "nbformat": 4,
 "nbformat_minor": 5
}
